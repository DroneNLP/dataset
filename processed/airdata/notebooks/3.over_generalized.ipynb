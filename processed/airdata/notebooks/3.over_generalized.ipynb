{
 "cells": [
  {
   "cell_type": "code",
   "execution_count": 1,
   "id": "8c5d291d",
   "metadata": {},
   "outputs": [
    {
     "name": "stdout",
     "output_type": "stream",
     "text": [
      "d:\\Data Kuliah\\Semester 8\\IEEE - TIFS\\dataset\\processed\\airdata\\notebooks\n"
     ]
    }
   ],
   "source": [
    "import os\n",
    "\n",
    "print(os.path.abspath(os.curdir))"
   ]
  },
  {
   "cell_type": "code",
   "execution_count": 2,
   "id": "3f4c6b62",
   "metadata": {},
   "outputs": [],
   "source": [
    "import os\n",
    "os.chdir(\"..\")"
   ]
  },
  {
   "cell_type": "code",
   "execution_count": 3,
   "id": "127a0cf2",
   "metadata": {},
   "outputs": [
    {
     "name": "stdout",
     "output_type": "stream",
     "text": [
      "d:\\Data Kuliah\\Semester 8\\IEEE - TIFS\\dataset\\processed\\airdata\n"
     ]
    }
   ],
   "source": [
    "print(os.path.abspath(os.curdir))"
   ]
  },
  {
   "cell_type": "code",
   "execution_count": null,
   "id": "67819e39",
   "metadata": {},
   "outputs": [
    {
     "name": "stdout",
     "output_type": "stream",
     "text": [
      "Corrections applied successfully. Results saved to corrected_data_step_3.xlsx\n"
     ]
    }
   ],
   "source": [
    "import pandas as pd\n",
    "from openpyxl import load_workbook\n",
    "\n",
    "def apply_corrections():\n",
    "    # Load the correction log\n",
    "    correction_log = pd.read_excel('correction_log_step_3.xlsx')\n",
    "    \n",
    "    # Load the previous corrected data (assuming it's in corrected_data_step_2.xlsx)\n",
    "    try:\n",
    "        corrected_data = pd.read_excel('corrected_data_step_2.xlsx')\n",
    "    except FileNotFoundError:\n",
    "        print(\"Error: corrected_data_step_2.xlsx not found. Please ensure it's in the same directory.\")\n",
    "        return\n",
    "    \n",
    "    # Find the maximum MessageID in the corrected data to start assigning new IDs\n",
    "    max_id = corrected_data['MessageID'].max()\n",
    "    new_id = max_id + 1\n",
    "    \n",
    "    # Process 'drop' corrections first (remove these messages)\n",
    "    drop_ids = correction_log[correction_log['Correction Type'] == 'drop']['MessageID'].unique()\n",
    "    corrected_data = corrected_data[~corrected_data['MessageID'].isin(drop_ids)]\n",
    "    \n",
    "    # Process 'over-generalized' corrections\n",
    "    over_generalized = correction_log[correction_log['Correction Type'] == 'over-generalized']\n",
    "    \n",
    "    # We'll collect all new rows to add\n",
    "    new_rows = []\n",
    "    \n",
    "    for _, row in over_generalized.iterrows():\n",
    "        original_id = row['MessageID']\n",
    "        corrected_message = row['Corrected Message']\n",
    "        justification = row['Justification']\n",
    "        \n",
    "        # Find the original message in the corrected data\n",
    "        original_message = corrected_data[corrected_data['MessageID'] == original_id]\n",
    "        \n",
    "        if not original_message.empty:\n",
    "            # Create new rows for each variant\n",
    "            new_row = original_message.iloc[0].copy()\n",
    "            new_row['MessageID'] = new_id\n",
    "            new_row['Message'] = corrected_message\n",
    "            # new_row['Justification'] = justification\n",
    "            new_rows.append(new_row)\n",
    "            new_id += 1\n",
    "    \n",
    "    # Add the new rows to the corrected data\n",
    "    if new_rows:\n",
    "        new_rows_df = pd.DataFrame(new_rows)\n",
    "        corrected_data = pd.concat([corrected_data, new_rows_df], ignore_index=True)\n",
    "    \n",
    "    # Remove the original messages that were over-generalized (since we've created variants)\n",
    "    over_generalized_ids = over_generalized['MessageID'].unique()\n",
    "    corrected_data = corrected_data[~corrected_data['MessageID'].isin(over_generalized_ids)]\n",
    "    \n",
    "    # Save the final corrected data\n",
    "    corrected_data.to_excel('corrected_data_step_3.xlsx', index=False)\n",
    "    print(\"Corrections applied successfully. Results saved to corrected_data_step_3.xlsx\")\n",
    "\n",
    "if __name__ == \"__main__\":\n",
    "    apply_corrections()"
   ]
  }
 ],
 "metadata": {
  "kernelspec": {
   "display_name": "adfler",
   "language": "python",
   "name": "python3"
  },
  "language_info": {
   "codemirror_mode": {
    "name": "ipython",
    "version": 3
   },
   "file_extension": ".py",
   "mimetype": "text/x-python",
   "name": "python",
   "nbconvert_exporter": "python",
   "pygments_lexer": "ipython3",
   "version": "3.12.7"
  }
 },
 "nbformat": 4,
 "nbformat_minor": 5
}
