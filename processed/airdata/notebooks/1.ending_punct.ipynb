{
 "cells": [
  {
   "cell_type": "code",
   "execution_count": 1,
   "id": "c62bfff3",
   "metadata": {},
   "outputs": [
    {
     "name": "stdout",
     "output_type": "stream",
     "text": [
      "d:\\Data Kuliah\\Semester 8\\IEEE - TIFS\\dataset\\processed\\airdata\\notebooks\n"
     ]
    }
   ],
   "source": [
    "import os\n",
    "\n",
    "print(os.path.abspath(os.curdir))"
   ]
  },
  {
   "cell_type": "code",
   "execution_count": 2,
   "id": "896eb5d4",
   "metadata": {},
   "outputs": [],
   "source": [
    "import os\n",
    "os.chdir(\"..\")"
   ]
  },
  {
   "cell_type": "code",
   "execution_count": 3,
   "id": "d135b5d4",
   "metadata": {},
   "outputs": [
    {
     "name": "stdout",
     "output_type": "stream",
     "text": [
      "d:\\Data Kuliah\\Semester 8\\IEEE - TIFS\\dataset\\processed\\airdata\n"
     ]
    }
   ],
   "source": [
    "print(os.path.abspath(os.curdir))"
   ]
  },
  {
   "cell_type": "code",
   "execution_count": null,
   "id": "6ad76377",
   "metadata": {},
   "outputs": [
    {
     "name": "stdout",
     "output_type": "stream",
     "text": [
      "Data cleaned and saved to corrected_data_step_1-test.xlsx\n"
     ]
    }
   ],
   "source": [
    "import pandas as pd\n",
    "\n",
    "def standardize_message_punctuation(input_file, output_file, sheet_name='Sheet1'):\n",
    "    \"\"\"\n",
    "    Ensures each message ends with exactly one full stop.\n",
    "    \n",
    "    Args:\n",
    "        input_file (str): Path to input Excel file\n",
    "        output_file (str): Path to save corrected Excel file\n",
    "        sheet_name (str): Sheet name to process (default: 'Sheet1')\n",
    "    \"\"\"\n",
    "    # Load the data\n",
    "    df = pd.read_excel(input_file, sheet_name=sheet_name)\n",
    "    \n",
    "    # Function to clean individual messages\n",
    "    def ensure_single_ending_dot(message):\n",
    "        if pd.isna(message):  # Handle NaN values\n",
    "            return message\n",
    "        message = str(message).strip()\n",
    "        if not message:\n",
    "            return message\n",
    "        # Remove all trailing dots, then add exactly one\n",
    "        message = message.rstrip('. ') + '.'\n",
    "        return message\n",
    "    \n",
    "    # Apply to the message column (adjust column name as needed)\n",
    "    message_col = 'Notification' if 'Notification' in df.columns else 'Message'\n",
    "    df[message_col] = df[message_col].apply(ensure_single_ending_dot)\n",
    "    \n",
    "    # Save the corrected data\n",
    "    df.to_excel(output_file, index=False)\n",
    "    print(f\"Data cleaned and saved to {output_file}\")\n",
    "\n",
    "# Example usage:\n",
    "standardize_message_punctuation('../../raw/airdata/raw-air-data.xlsx', 'corrected_data_step_1.xlsx')"
   ]
  }
 ],
 "metadata": {
  "kernelspec": {
   "display_name": "adfler",
   "language": "python",
   "name": "python3"
  },
  "language_info": {
   "codemirror_mode": {
    "name": "ipython",
    "version": 3
   },
   "file_extension": ".py",
   "mimetype": "text/x-python",
   "name": "python",
   "nbconvert_exporter": "python",
   "pygments_lexer": "ipython3",
   "version": "3.12.7"
  }
 },
 "nbformat": 4,
 "nbformat_minor": 5
}
