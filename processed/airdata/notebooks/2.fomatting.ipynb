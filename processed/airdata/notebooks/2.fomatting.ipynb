{
 "cells": [
  {
   "cell_type": "code",
   "execution_count": 2,
   "id": "9ab4275c",
   "metadata": {},
   "outputs": [
    {
     "name": "stdout",
     "output_type": "stream",
     "text": [
      "d:\\Data Kuliah\\Semester 8\\IEEE - TIFS\\dataset\\processed\\airdata\\notebooks\n"
     ]
    }
   ],
   "source": [
    "import os\n",
    "\n",
    "print(os.path.abspath(os.curdir))"
   ]
  },
  {
   "cell_type": "code",
   "execution_count": 3,
   "id": "17bf6a49",
   "metadata": {},
   "outputs": [],
   "source": [
    "import os\n",
    "os.chdir(\"..\")"
   ]
  },
  {
   "cell_type": "code",
   "execution_count": 4,
   "id": "7612154c",
   "metadata": {},
   "outputs": [
    {
     "name": "stdout",
     "output_type": "stream",
     "text": [
      "d:\\Data Kuliah\\Semester 8\\IEEE - TIFS\\dataset\\processed\\airdata\n"
     ]
    }
   ],
   "source": [
    "print(os.path.abspath(os.curdir))"
   ]
  },
  {
   "cell_type": "code",
   "execution_count": null,
   "id": "adb4ef46",
   "metadata": {},
   "outputs": [
    {
     "name": "stdout",
     "output_type": "stream",
     "text": [
      "Corrections applied and saved to corrected_data_step_2-test.xlsx\n",
      "Total corrections applied: 64\n"
     ]
    }
   ],
   "source": [
    "import pandas as pd\n",
    "\n",
    "def apply_message_corrections(original_file, corrections_file, output_file):\n",
    "    \"\"\"\n",
    "    Applies message corrections from a log file to the original dataset.\n",
    "    \n",
    "    Args:\n",
    "        original_file (str): Path to original Excel file\n",
    "        corrections_file (str): Path to corrections log Excel file\n",
    "        output_file (str): Path to save corrected output file\n",
    "    \"\"\"\n",
    "    # Load the datasets\n",
    "    original_df = pd.read_excel(original_file)\n",
    "    corrections_df = pd.read_excel(corrections_file)\n",
    "    \n",
    "    # Create a dictionary of corrections {MessageID: CorrectedMessage}\n",
    "    corrections_dict = dict(zip(corrections_df['MessageID'], \n",
    "                               corrections_df['Corrected Message']))\n",
    "    \n",
    "    # Determine the message column name in the original file\n",
    "    message_col = 'Notification' if 'Notification' in original_df.columns else 'Message'\n",
    "    \n",
    "    # Apply corrections\n",
    "    original_df[message_col] = original_df.apply(\n",
    "        lambda row: corrections_dict.get(row['MessageID'], row[message_col]), \n",
    "        axis=1\n",
    "    )\n",
    "    \n",
    "    # Save the corrected data\n",
    "    original_df.to_excel(output_file, index=False)\n",
    "    print(f\"Corrections applied and saved to {output_file}\")\n",
    "    print(f\"Total corrections applied: {len(corrections_dict)}\")\n",
    "\n",
    "# Example usage:\n",
    "apply_message_corrections(\n",
    "    original_file='corrected_data_step_1.xlsx',\n",
    "    corrections_file='correction_log_step_2.xlsx',\n",
    "    output_file='corrected_data_step_2.xlsx'\n",
    ")"
   ]
  }
 ],
 "metadata": {
  "kernelspec": {
   "display_name": "adfler",
   "language": "python",
   "name": "python3"
  },
  "language_info": {
   "codemirror_mode": {
    "name": "ipython",
    "version": 3
   },
   "file_extension": ".py",
   "mimetype": "text/x-python",
   "name": "python",
   "nbconvert_exporter": "python",
   "pygments_lexer": "ipython3",
   "version": "3.12.7"
  }
 },
 "nbformat": 4,
 "nbformat_minor": 5
}
